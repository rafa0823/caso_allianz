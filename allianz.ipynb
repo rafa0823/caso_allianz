{
  "cells": [
    {
      "cell_type": "markdown",
      "metadata": {},
      "source": [
        "---\n",
        "title: \"Caso Allianz\"\n",
        "format:\n",
        "  html:\n",
        "    embed-resources: true\n",
        "---\n",
        "\n",
        "## Librerías"
      ]
    },
    {
      "cell_type": "code",
      "metadata": {},
      "source": [
        "import numpy as np\n",
        "import pandas as pd\n",
        "import seaborn as sns\n",
        "import matplotlib.pyplot as plt\n",
        "from scipy.stats import kurtosis\n",
        "from sklearn.impute import KNNImputer\n",
        "from sklearn.preprocessing import LabelEncoder\n",
        "from sklearn.utils import resample\n",
        "from sklearn.model_selection import train_test_split\n",
        "from sklearn.metrics import accuracy_score\n",
        "#!pip install xgboost\n",
        "from xgboost import XGBClassifier\n",
        "from sklearn.metrics import classification_report, confusion_matrix, roc_curve, f1_score, precision_score, recall_score\n",
        "from sklearn.preprocessing import StandardScaler\n",
        "\n",
        "import warnings \n",
        "warnings.filterwarnings(\"ignore\")"
      ],
      "execution_count": null,
      "outputs": []
    },
    {
      "cell_type": "markdown",
      "metadata": {},
      "source": [
        "## Funciones"
      ]
    },
    {
      "cell_type": "code",
      "metadata": {},
      "source": [
        "def remove_outliers_iqr(df, columns):\n",
        "    for col in columns:\n",
        "        q1 = df[col].quantile(0.25)\n",
        "        q3 = df[col].quantile(0.75)\n",
        "        iqr = q3 - q1\n",
        "        lower_bound = q1 - 1.5 * iqr\n",
        "        upper_bound = q3 + 1.5 * iqr\n",
        "        df = df[(df[col] >= lower_bound) & (df[col] <= upper_bound)]\n",
        "    return df\n",
        "  \n",
        "def crear_surrogate_columnas(df, columnas):\n",
        "    for col in columnas:\n",
        "        # Crear una nueva columna con el nombre original seguido de '.surrogate'\n",
        "        nueva_columna = col + '.surrogate'\n",
        "        # Asignar 1 si el valor es nulo y 0 si no lo es\n",
        "        df[nueva_columna] = df[col].isnull().astype(int)\n",
        "    return df"
      ],
      "execution_count": null,
      "outputs": []
    },
    {
      "cell_type": "markdown",
      "metadata": {},
      "source": [
        "# Exploración de datos"
      ]
    },
    {
      "cell_type": "code",
      "metadata": {},
      "source": [
        "df = pd.read_csv(\"data-raw/bd_allianz.csv\")\n",
        "df.info()\n",
        "\n",
        "duplicadas = df[df.duplicated()]\n",
        "\n",
        "print(\"\\nFilas duplicadas:\")\n",
        "print(duplicadas)\n",
        "\n",
        "df = df.drop_duplicates()"
      ],
      "execution_count": null,
      "outputs": []
    },
    {
      "cell_type": "markdown",
      "metadata": {},
      "source": [
        "## Transformación de tipo de datos"
      ]
    },
    {
      "cell_type": "code",
      "metadata": {},
      "source": [
        "# Convert to list if it's not already\n",
        "convertir = df.select_dtypes(exclude=['float64', 'int64']).columns.tolist()\n",
        "\n",
        "# Add a new element\n",
        "convertir.extend(['Customer_ID', \"Is_direct_debit\"])\n",
        "\n",
        "df[convertir] = df[convertir].apply(lambda x: x.astype('category'))\n",
        "\n",
        "df.info()\n",
        "\n",
        "df[\"Broker_cor\"] = df[\"Broker_cor\"].str.replace(',', '').astype(\"float64\")"
      ],
      "execution_count": null,
      "outputs": []
    },
    {
      "cell_type": "code",
      "metadata": {},
      "source": [
        "df.describe()\n",
        "\n",
        "df.isnull().sum()/df.shape[0]"
      ],
      "execution_count": null,
      "outputs": []
    },
    {
      "cell_type": "markdown",
      "metadata": {},
      "source": [
        "# Análisis exploratorio de datos"
      ]
    },
    {
      "cell_type": "code",
      "metadata": {},
      "source": [
        "df[\"Is_direct_debit\"].value_counts()"
      ],
      "execution_count": null,
      "outputs": []
    },
    {
      "cell_type": "code",
      "metadata": {},
      "source": [
        "sns.countplot(data=df, x=\"Is_direct_debit\", hue = \"Is_direct_debit\")\n",
        "plt.xlabel(\"Is Direct Debit\")\n",
        "plt.ylabel(\"Count\")\n",
        "plt.title(\"Distribución de cuentas domiciliados\")\n",
        "plt.show()"
      ],
      "execution_count": null,
      "outputs": []
    },
    {
      "cell_type": "code",
      "metadata": {},
      "source": [
        "cat_cols = df.select_dtypes(include = \"category\").columns\n",
        "cat_cols = cat_cols.drop(labels=['Broker_account_number', 'Contract_number', 'Customer_ID'],)"
      ],
      "execution_count": null,
      "outputs": []
    },
    {
      "cell_type": "markdown",
      "metadata": {},
      "source": [
        "## Distribución de variables categóricas"
      ]
    },
    {
      "cell_type": "code",
      "metadata": {
        "cache": true
      },
      "source": [
        "#| label: gráficos\n",
        "# Set up the figure and axes for six subplots (3 rows, 2 columns)\n",
        "\n",
        "# Increase the height to allow more space for each subplot\n",
        "fig, axs = plt.subplots(nrows=6, ncols=1, figsize=(8, 20))  # Adjusted height\n",
        "\n",
        "# List of the columns to plot\n",
        "columns = [\"Broker_urbanization\", \"Customer_urbanization\", \"Broker_province\", \n",
        "           \"Customer_province\", \"Customer_age\", \"Customer_type\"]\n",
        "\n",
        "# Loop through each column and create a countplot\n",
        "for i, col in enumerate(columns):\n",
        "    sns.countplot(data=df, x=col, hue=\"Is_direct_debit\", ax=axs[i])\n",
        "    axs[i].set_title(f\"Distribution of {col}\")\n",
        "    axs[i].set_xlabel(col)\n",
        "    axs[i].set_ylabel(\"Count\")\n",
        "    axs[i].set_xticklabels(axs[i].get_xticklabels(), rotation=45, ha='right')\n",
        "\n",
        "# Adjust layout for better spacing\n",
        "fig.tight_layout(h_pad=2, w_pad=2)  # Add horizontal padding\n",
        "\n",
        "# Show the plots\n",
        "plt.show()"
      ],
      "execution_count": null,
      "outputs": []
    },
    {
      "cell_type": "markdown",
      "metadata": {},
      "source": [
        "## Distribución de variables numéricas"
      ]
    },
    {
      "cell_type": "code",
      "metadata": {},
      "source": [
        "scaler = StandardScaler()\n",
        "df[\"Broker_cor_scaled\"] = scaler.fit_transform(df[[\"Broker_cor\"]])"
      ],
      "execution_count": null,
      "outputs": []
    },
    {
      "cell_type": "code",
      "metadata": {},
      "source": [
        "plt.figure(figsize=(10, 6))\n",
        "sns.violinplot(data=df, x=\"Broker_cor_scaled\", hue=\"Is_direct_debit\")\n",
        "plt.title(\"Violin Plot of Scaled Broker_cor\")\n",
        "plt.xlabel(\"Broker_cor_scaled\")\n",
        "plt.show()"
      ],
      "execution_count": null,
      "outputs": []
    },
    {
      "cell_type": "code",
      "metadata": {},
      "source": [
        "df_majority = df[df['Is_direct_debit']==0] \n",
        "df_minority = df[df['Is_direct_debit']==1] \n",
        "\n",
        "# muestreo ascendente de la clase minoritaria\n",
        "df_minority_upsampled = resample(df_minority, \n",
        "                                 replace=True,     # muesta con reemplazo \n",
        "                                 n_samples= 357183, # para que coincida con la clase mayoritaria\n",
        "                                 random_state=0)   # resultados reproducible\n",
        "\n",
        "# Combinar la clase mayoritaria con la muestra ascendente de la clase minoritaria \n",
        "df = pd.concat([df_minority_upsampled, df_majority])"
      ],
      "execution_count": null,
      "outputs": []
    },
    {
      "cell_type": "markdown",
      "metadata": {},
      "source": [
        "## ~~*Invención*~~ Balanceo de datos"
      ]
    },
    {
      "cell_type": "code",
      "metadata": {},
      "source": [
        "plt.figure(figsize=(10, 6))\n",
        "sns.countplot(data=df, x=\"Is_direct_debit\", hue = \"Is_direct_debit\")\n",
        "plt.xlabel(\"Is Direct Debit\")\n",
        "plt.ylabel(\"Count\")\n",
        "plt.title(\"Distribución de cuentas domiciliados\")\n",
        "plt.show()"
      ],
      "execution_count": null,
      "outputs": []
    },
    {
      "cell_type": "markdown",
      "metadata": {},
      "source": [
        "## One hot encoding"
      ]
    },
    {
      "cell_type": "code",
      "metadata": {
        "cache": true
      },
      "source": [
        "#| label: one hot encoding\n",
        "df_encoded = pd.get_dummies(df, columns=[\"Broker_urbanization\", \"Customer_urbanization\", \n",
        "                                         \"Broker_province\", \"Customer_province\", \n",
        "                                         \"Customer_age\", \"Customer_type\"])\n",
        "\n",
        "df_encoded.shape                                         "
      ],
      "execution_count": null,
      "outputs": []
    },
    {
      "cell_type": "markdown",
      "metadata": {},
      "source": [
        "# Modelos\n",
        "\n",
        "## 1. Definiendo vector de características (X) y variable target (y)"
      ]
    },
    {
      "cell_type": "code",
      "metadata": {},
      "source": [
        "X = df_encoded.drop('Is_direct_debit', axis=1)\n",
        "y = df_encoded['Is_direct_debit']"
      ],
      "execution_count": null,
      "outputs": []
    }
  ],
  "metadata": {
    "kernelspec": {
      "name": "python3",
      "language": "python",
      "display_name": "Python 3 (ipykernel)",
      "path": "/Users/rafaellopez/Library/Python/3.11/share/jupyter/kernels/python3"
    }
  },
  "nbformat": 4,
  "nbformat_minor": 4
}